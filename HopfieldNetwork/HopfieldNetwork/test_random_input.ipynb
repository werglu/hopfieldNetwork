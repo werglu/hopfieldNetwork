{
 "cells": [
  {
   "cell_type": "code",
   "execution_count": 1,
   "id": "d865709e",
   "metadata": {},
   "outputs": [],
   "source": [
    "import numpy as np\n",
    "from utilities import visualize_result, show, get_test_data\n",
    "import matplotlib.pyplot as plt\n",
    "from HopfieldNetwork import HopfieldNetwork, LearningRule, Mode\n",
    "from data_manager import *"
   ]
  },
  {
   "cell_type": "code",
   "execution_count": 4,
   "id": "4b083502",
   "metadata": {},
   "outputs": [],
   "source": [
    "random_seed = 1"
   ]
  },
  {
   "cell_type": "code",
   "execution_count": 5,
   "id": "d13584ad",
   "metadata": {},
   "outputs": [],
   "source": [
    "def visualize_result(original, hebb, oja, height, width):\n",
    "    fig, axs = plt.subplots(1, 3, constrained_layout=True)\n",
    "    axs[0].imshow(original.reshape(height, width), cmap='gray')\n",
    "    axs[1].imshow(hebb.reshape(height, width), cmap='gray')\n",
    "    axs[2].imshow(oja.reshape(height, width), cmap='gray')\n",
    "    \n",
    "    for ax_j in axs:\n",
    "        ax_j.set_xticks([])\n",
    "        ax_j.set_yticks([])\n",
    "        ax_j.patch.set_edgecolor('black') \n",
    "        ax_j.patch.set_linewidth('1')\n",
    "\n",
    "def get_results(data, sample_count_m, neurons_count_n, height, width):\n",
    "    network = HopfieldNetwork(LearningRule.Hebb, Mode.Synchronous, data, sample_count_m, neurons_count_n, random_seed)\n",
    "    T_Hebb = network.get_weights()\n",
    "\n",
    "    network.set_learning_rule(LearningRule.Oja)\n",
    "    T_Oja = network.get_weights(0.001, 100)\n",
    "\n",
    "\n",
    "    result_synchronous_hebb = network.recognize(T_Hebb, np.copy(random_image), 10000)\n",
    "    result_synchronous_oja = network.recognize(T_Oja, np.copy(random_image), 10000)\n",
    "    return result_synchronous_hebb, result_synchronous_oja"
   ]
  },
  {
   "cell_type": "code",
   "execution_count": 7,
   "id": "38c4dbf2",
   "metadata": {},
   "outputs": [
    {
     "name": "stdout",
     "output_type": "stream",
     "text": [
      "Model convergence at 4 iter\n",
      "Model convergence at 4 iter\n"
     ]
    },
    {
     "data": {
      "image/png": "[encoded data removed]",
      "text/plain": [
       "<Figure size 432x288 with 3 Axes>"
      ]
     },
     "metadata": {},
     "output_type": "display_data"
    }
   ],
   "source": [
    "data, sample_count_m, neurons_count_n, height, width = get_set_large_25x25()\n",
    "random_image = np.random.choice([0, 1], size=(height * width))\n",
    "hebb, oja = get_results(data, sample_count_m, neurons_count_n, height, width)\n",
    "visualize_result(random_image, hebb, oja, height, width)"
   ]
  },
  {
   "cell_type": "code",
   "execution_count": 8,
   "id": "cbfbd74d",
   "metadata": {},
   "outputs": [
    {
     "name": "stdout",
     "output_type": "stream",
     "text": [
      "Model convergence at 3 iter\n",
      "Model convergence at 4 iter\n"
     ]
    },
    {
     "data": {
      "image/png": "[encoded data removed]",
      "text/plain": [
       "<Figure size 432x288 with 3 Axes>"
      ]
     },
     "metadata": {},
     "output_type": "display_data"
    }
   ],
   "source": [
    "data, sample_count_m, neurons_count_n, height, width = get_set_small_7x7()\n",
    "random_image = np.random.choice([0, 1], size=(height * width))\n",
    "hebb, oja = get_results(data, sample_count_m, neurons_count_n, height, width)\n",
    "visualize_result(random_image, hebb, oja, height, width)"
   ]
  },
  {
   "cell_type": "code",
   "execution_count": 9,
   "id": "183bc85c",
   "metadata": {},
   "outputs": [
    {
     "name": "stdout",
     "output_type": "stream",
     "text": [
      "Model convergence at 5 iter\n",
      "Model convergence at 4 iter\n"
     ]
    },
    {
     "data": {
      "image/png": "[encoded data removed]",
      "text/plain": [
       "<Figure size 432x288 with 3 Axes>"
      ]
     },
     "metadata": {},
     "output_type": "display_data"
    }
   ],
   "source": [
    "data, sample_count_m, neurons_count_n, height, width = get_set_animals_14x9()\n",
    "random_image = np.random.choice([0, 1], size=(height * width))\n",
    "hebb, oja = get_results(data, sample_count_m, neurons_count_n, height, width)\n",
    "visualize_result(random_image, hebb, oja, height, width)"
   ]
  },
  {
   "cell_type": "code",
   "execution_count": 10,
   "id": "446cf62c",
   "metadata": {},
   "outputs": [
    {
     "name": "stdout",
     "output_type": "stream",
     "text": [
      "Model convergence at 5 iter\n",
      "Iter exceeded\n"
     ]
    },
    {
     "data": {
      "image/png": "[encoded data removed]",
      "text/plain": [
       "<Figure size 432x288 with 3 Axes>"
      ]
     },
     "metadata": {},
     "output_type": "display_data"
    }
   ],
   "source": [
    "data, sample_count_m, neurons_count_n, height, width = get_set_large_25x25_plus()\n",
    "random_image = np.random.choice([0, 1], size=(height * width))\n",
    "hebb, oja = get_results(data, sample_count_m, neurons_count_n, height, width)\n",
    "visualize_result(random_image, hebb, oja, height, width)"
   ]
  },
  {
   "cell_type": "code",
   "execution_count": 11,
   "id": "d7df65fa",
   "metadata": {},
   "outputs": [
    {
     "name": "stderr",
     "output_type": "stream",
     "text": [
      "D:\\Studia\\Magisterka\\mgr_sem2\\sieci_neuronowe\\projekt2\\hopfieldNetwork\\HopfieldNetwork\\HopfieldNetwork\\HopfieldNetwork.py:50: RuntimeWarning: overflow encountered in matmul\n",
      "  t += nu * np.outer(y, (x - np.matmul(y, t)))\n",
      "D:\\Studia\\Magisterka\\mgr_sem2\\sieci_neuronowe\\projekt2\\hopfieldNetwork\\HopfieldNetwork\\HopfieldNetwork\\HopfieldNetwork.py:49: RuntimeWarning: invalid value encountered in matmul\n",
      "  y = np.matmul(x, t)\n"
     ]
    },
    {
     "name": "stdout",
     "output_type": "stream",
     "text": [
      "Model convergence at 4 iter\n",
      "Model convergence at 3 iter\n"
     ]
    },
    {
     "data": {
      "image/png": "[encoded data removed]",
      "text/plain": [
       "<Figure size 432x288 with 3 Axes>"
      ]
     },
     "metadata": {},
     "output_type": "display_data"
    }
   ],
   "source": [
    "data, sample_count_m, neurons_count_n, height, width = get_set_letters_14x20()\n",
    "\n",
    "random_image = np.random.choice([0, 1], size=(height * width))\n",
    "hebb, oja = get_results(data, sample_count_m, neurons_count_n, height, width)\n",
    "visualize_result(random_image, hebb, oja, height, width)"
   ]
  },
  {
   "cell_type": "code",
   "execution_count": 12,
   "id": "1c30fc27",
   "metadata": {},
   "outputs": [
    {
     "name": "stdout",
     "output_type": "stream",
     "text": [
      "Model convergence at 3 iter\n",
      "Model convergence at 3 iter\n"
     ]
    },
    {
     "data": {
      "image/png": "[encoded data removed]",
      "text/plain": [
       "<Figure size 432x288 with 3 Axes>"
      ]
     },
     "metadata": {},
     "output_type": "display_data"
    }
   ],
   "source": [
    "data, sample_count_m, neurons_count_n, height, width = get_set_letters_abc_8x12()\n",
    "random_image = np.random.choice([0, 1], size=(height * width))\n",
    "hebb, oja = get_results(data, sample_count_m, neurons_count_n, height, width)\n",
    "visualize_result(random_image, hebb, oja, height, width)"
   ]
  },
  {
   "cell_type": "code",
   "execution_count": 13,
   "id": "0b74ea8e",
   "metadata": {},
   "outputs": [
    {
     "name": "stdout",
     "output_type": "stream",
     "text": [
      "Model convergence at 7 iter\n",
      "Model convergence at 7 iter\n"
     ]
    },
    {
     "data": {
      "image/png": "[encoded data removed]",
      "text/plain": [
       "<Figure size 432x288 with 3 Axes>"
      ]
     },
     "metadata": {},
     "output_type": "display_data"
    }
   ],
   "source": [
    "data, sample_count_m, neurons_count_n, height, width = get_set_OCRA_12x30()\n",
    "random_image = np.random.choice([0, 1], size=(height * width))\n",
    "hebb, oja = get_results(data, sample_count_m, neurons_count_n, height, width)\n",
    "visualize_result(random_image, hebb, oja, height, width)"
   ]
  },
  {
   "cell_type": "code",
   "execution_count": 15,
   "id": "b682ee41",
   "metadata": {},
   "outputs": [
    {
     "name": "stdout",
     "output_type": "stream",
     "text": [
      "Model convergence at 3 iter\n",
      "Model convergence at 4 iter\n"
     ]
    },
    {
     "data": {
      "image/png": "[encoded data removed]",
      "text/plain": [
       "<Figure size 432x288 with 3 Axes>"
      ]
     },
     "metadata": {},
     "output_type": "display_data"
    }
   ],
   "source": [
    "data, sample_count_m, neurons_count_n, height, width = get_set_large_25x50()\n",
    "height = 12\n",
    "neurons_count_n = height*width\n",
    "data = data[0:neurons_count_n]\n",
    "random_image = np.random.choice([0, 1], size=(height * width))\n",
    "hebb, oja = get_results(data, sample_count_m, neurons_count_n, height, width)\n",
    "visualize_result(random_image, hebb, oja, height, width)"
   ]
  }
 ],
 "metadata": {
  "kernelspec": {
   "display_name": "Python 3 (ipykernel)",
   "language": "python",
   "name": "python3"
  },
  "language_info": {
   "codemirror_mode": {
    "name": "ipython",
    "version": 3
   },
   "file_extension": ".py",
   "mimetype": "text/x-python",
   "name": "python",
   "nbconvert_exporter": "python",
   "pygments_lexer": "ipython3",
   "version": "3.9.5"
  }
 },
 "nbformat": 4,
 "nbformat_minor": 5
}
