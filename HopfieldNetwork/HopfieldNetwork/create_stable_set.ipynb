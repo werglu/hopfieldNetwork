{
 "cells": [
  {
   "cell_type": "code",
   "execution_count": 1,
   "id": "c98d47cf",
   "metadata": {},
   "outputs": [],
   "source": [
    "import numpy as np\n",
    "from utilities import visualize_result, show, get_test_data\n",
    "import matplotlib.pyplot as plt\n",
    "from HopfieldNetwork import HopfieldNetwork, LearningRule, Mode\n",
    "from data_manager import *\n",
    "import datetime"
   ]
  },
  {
   "cell_type": "code",
   "execution_count": 70,
   "id": "4795bc3c",
   "metadata": {},
   "outputs": [
    {
     "name": "stdout",
     "output_type": "stream",
     "text": [
      "599197\n",
      "seed = 599197\n",
      "no of images = 11\n"
     ]
    }
   ],
   "source": [
    "random_seed = 599197 # datetime.datetime.now().microsecond\n",
    "print(random_seed)\n",
    "np.random.seed(seed=random_seed)\n",
    "random_generator = np.random.default_rng(seed=random_seed)\n",
    "\n",
    "\n",
    "height = 5\n",
    "width = 5\n",
    "neurons_count_n = height * width\n",
    "\n",
    "random_image = np.random.choice([-1, 1], size=(height * width))\n",
    "images = [random_image]\n",
    "\n",
    "for i in range(0, 100):\n",
    "#     print(i)\n",
    "    generated_image = np.random.choice([-1, 1], size=(height * width))\n",
    "    curr_images = np.vstack([images, generated_image])\n",
    "    data = np.array(curr_images).T\n",
    "   \n",
    "    sample_count_m = len(images) + 1\n",
    "    \n",
    "    network = HopfieldNetwork(LearningRule.Hebb, Mode.Synchronous, data, sample_count_m, neurons_count_n, random_seed)\n",
    "    T_Hebb = network.get_weights(0.001, 100)\n",
    "    \n",
    "    stable = True\n",
    "    for image in curr_images:\n",
    "        \n",
    "        result = network.recognize(T_Hebb, np.copy(image), 1000)\n",
    "        acc = np.sum(image == result) / neurons_count_n\n",
    "        if acc < 1.0:\n",
    "#             print(\"Not stable acc={0}\".format(acc))\n",
    "            stable = False\n",
    "            break\n",
    "    if stable:\n",
    "        images.append(generated_image)\n",
    "#         print(\"Images len: {0}\".format(len(images)))\n",
    "\n",
    "print(\"seed = {0}\".format(random_seed))\n",
    "print(\"no of images = {0}\".format(len(images)))"
   ]
  },
  {
   "cell_type": "markdown",
   "id": "9b27e0c8",
   "metadata": {},
   "source": [
    "### Best score"
   ]
  },
  {
   "cell_type": "code",
   "execution_count": 32,
   "id": "fe6347e2",
   "metadata": {},
   "outputs": [
    {
     "name": "stdout",
     "output_type": "stream",
     "text": [
      "seed = 599197\n",
      "no of images = 11\n"
     ]
    }
   ],
   "source": [
    "print(\"seed = {0}\".format(random_seed))\n",
    "print(\"no of images = {0}\".format(len(images)))"
   ]
  },
  {
   "cell_type": "code",
   "execution_count": 72,
   "id": "737e10fa",
   "metadata": {},
   "outputs": [],
   "source": [
    "def plot_results(images, results, m, height, width, fig_height, fig_width, cmap_type='gray'):\n",
    "    fig, axes = plt.subplots(2, m, figsize=(fig_width, fig_height)) \n",
    "    fig.patch.set_facecolor('white')\n",
    "    fig.tight_layout()\n",
    "\n",
    "    for i in range(0, m):\n",
    "        \n",
    "        axes[0, i].imshow(images[i].reshape(height, width), cmap=cmap_type)\n",
    "        axes[1, i].imshow(results[i].reshape(height, width), cmap=cmap_type)\n",
    "        \n",
    "        for ax_i in axes:\n",
    "            for ax_j in ax_i:\n",
    "                ax_j.set_xticks([])\n",
    "                ax_j.set_yticks([])\n",
    "                ax_j.patch.set_edgecolor('black') \n",
    "                ax_j.patch.set_linewidth('2')\n",
    "                \n",
    "                \n",
    "def get_results(data, sample_count_m, neurons_count_n, random_seed):\n",
    "    results = []\n",
    "    network = HopfieldNetwork(LearningRule.Hebb, Mode.Synchronous, data, sample_count_m, neurons_count_n, random_seed)\n",
    "    T_Hebb = network.get_weights(0.001, 100)\n",
    "    \n",
    "    for i in range(sample_count_m):\n",
    "        sample = np.reshape(data[:, i], (neurons_count_n, 1))\n",
    "        \n",
    "        result = network.recognize(T_Hebb, np.copy(sample), 1000)\n",
    "        results.append(result)\n",
    "    \n",
    "    return results"
   ]
  },
  {
   "cell_type": "code",
   "execution_count": 80,
   "id": "4e6cb634",
   "metadata": {},
   "outputs": [
    {
     "name": "stdout",
     "output_type": "stream",
     "text": [
      "11\n"
     ]
    },
    {
     "data": {
      "image/png": "[encoded data removed]",
      "text/plain": [
       "<Figure size 864x216 with 22 Axes>"
      ]
     },
     "metadata": {},
     "output_type": "display_data"
    }
   ],
   "source": [
    "sample_count_m = len(images)\n",
    "data_images = np.array(images).T\n",
    "results = get_results(data_images, sample_count_m, neurons_count_n, random_seed)\n",
    "print(sample_count_m)\n",
    "plot_results(images, results, sample_count_m, height, width, 3, 12)"
   ]
  }
 ],
 "metadata": {
  "kernelspec": {
   "display_name": "Python 3 (ipykernel)",
   "language": "python",
   "name": "python3"
  },
  "language_info": {
   "codemirror_mode": {
    "name": "ipython",
    "version": 3
   },
   "file_extension": ".py",
   "mimetype": "text/x-python",
   "name": "python",
   "nbconvert_exporter": "python",
   "pygments_lexer": "ipython3",
   "version": "3.9.5"
  }
 },
 "nbformat": 4,
 "nbformat_minor": 5
}
