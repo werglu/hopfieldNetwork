{
 "cells": [
  {
   "cell_type": "code",
   "execution_count": 1,
   "id": "5b938f92",
   "metadata": {},
   "outputs": [],
   "source": [
    "import numpy as np\n",
    "from utilities import visualize_result, show, get_test_data\n",
    "import matplotlib.pyplot as plt\n",
    "from HopfieldNetwork import HopfieldNetwork, LearningRule, Mode\n",
    "from data_manager import *"
   ]
  },
  {
   "cell_type": "code",
   "execution_count": 2,
   "id": "1ff1e6aa",
   "metadata": {},
   "outputs": [],
   "source": [
    "data, sample_count_m, neurons_count_n, height, width = get_set_large_25x25()"
   ]
  },
  {
   "cell_type": "code",
   "execution_count": 3,
   "id": "3ba5d449",
   "metadata": {},
   "outputs": [],
   "source": [
    "random_seed = 123"
   ]
  },
  {
   "cell_type": "code",
   "execution_count": 4,
   "id": "ea50dacd",
   "metadata": {},
   "outputs": [],
   "source": [
    "network = HopfieldNetwork(LearningRule.Oja, Mode.Synchronous, data, sample_count_m, neurons_count_n, random_seed)\n",
    "T_Oja = network.get_weights(0.001, 100)"
   ]
  },
  {
   "cell_type": "code",
   "execution_count": 5,
   "id": "6b9445c3",
   "metadata": {},
   "outputs": [
    {
     "name": "stdout",
     "output_type": "stream",
     "text": [
      "Model convergence at 3 iter\n",
      "Accuracy synchronous: 1.0\n",
      "Model convergence at 3 iter\n",
      "Accuracy synchronous: 1.0\n",
      "Model convergence at 3 iter\n",
      "Accuracy synchronous: 1.0\n",
      "Model convergence at 3 iter\n",
      "Accuracy synchronous: 1.0\n",
      "Model convergence at 3 iter\n",
      "Accuracy synchronous: 1.0\n",
      "Model convergence at 3 iter\n",
      "Accuracy synchronous: 1.0\n"
     ]
    }
   ],
   "source": [
    "random_generator = np.random.default_rng(seed=random_seed)\n",
    "noise_percentage = 0.1\n",
    "noise_changes_count = int(noise_percentage * neurons_count_n)\n",
    "network.set_mode(Mode.Synchronous)\n",
    "\n",
    "images = []\n",
    "noised_images = []\n",
    "results = []\n",
    "\n",
    "for i in range(0, sample_count_m):\n",
    "    sample_id = i\n",
    "\n",
    "    sample = np.reshape(data[:, sample_id], (neurons_count_n, 1))\n",
    "    images.append(sample)\n",
    "    \n",
    "    sample_test = get_test_data(np.copy(sample), noise_changes_count, random_generator)\n",
    "    noised_images.append(sample_test)\n",
    "    \n",
    "    result_synchronous = network.recognize(T_Oja, np.copy(sample_test), 1000)\n",
    "    results.append(result_synchronous)\n",
    "    \n",
    "    print(\"Accuracy synchronous: {0}\".format(np.sum(sample == result_synchronous) / neurons_count_n))"
   ]
  },
  {
   "cell_type": "code",
   "execution_count": 6,
   "id": "99aae7ee",
   "metadata": {},
   "outputs": [],
   "source": [
    "def plot_results(images, noised_images, results, m):\n",
    "    fig, axes = plt.subplots(m, 3, figsize=(10, 20))\n",
    "    for i in range(0, m):\n",
    "        axes[i, 0].imshow(images[i].reshape(height, width), cmap='gray')\n",
    "        axes[i, 1].imshow(noised_images[i].reshape(height, width), cmap='gray')\n",
    "        axes[i, 2].imshow(results[i].reshape(height, width), cmap='gray')\n",
    "        axes[i, 0].set_xticks([])\n",
    "        axes[i, 1].set_xticks([])\n",
    "        axes[i, 2].set_xticks([])\n",
    "        axes[i, 0].set_yticks([])\n",
    "        axes[i, 1].set_yticks([])\n",
    "        axes[i, 2].set_yticks([])"
   ]
  },
  {
   "cell_type": "code",
   "execution_count": 7,
   "id": "60621794",
   "metadata": {},
   "outputs": [
    {
     "data": {
      "image/png": "[encoded data removed]",
      "text/plain": [
       "<Figure size 720x1440 with 18 Axes>"
      ]
     },
     "metadata": {},
     "output_type": "display_data"
    }
   ],
   "source": [
    "plot_results(images, noised_images, results, sample_count_m)"
   ]
  }
 ],
 "metadata": {
  "kernelspec": {
   "display_name": "Python 3 (ipykernel)",
   "language": "python",
   "name": "python3"
  },
  "language_info": {
   "codemirror_mode": {
    "name": "ipython",
    "version": 3
   },
   "file_extension": ".py",
   "mimetype": "text/x-python",
   "name": "python",
   "nbconvert_exporter": "python",
   "pygments_lexer": "ipython3",
   "version": "3.9.5"
  }
 },
 "nbformat": 4,
 "nbformat_minor": 5
}
